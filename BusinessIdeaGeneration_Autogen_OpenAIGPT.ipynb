{
  "nbformat": 4,
  "nbformat_minor": 0,
  "metadata": {
    "colab": {
      "provenance": [],
      "gpuType": "T4"
    },
    "kernelspec": {
      "name": "python3",
      "display_name": "Python 3"
    },
    "language_info": {
      "name": "python"
    },
    "accelerator": "GPU"
  },
  "cells": [
    {
      "cell_type": "markdown",
      "source": [
        "# Business Idea Generation with Multi-Agent Systems\n",
        "\n",
        "This project demonstrates a multi-agent AI system using Autogen and OpenAI GPT models. It sets up two specialized agents:\n",
        "\n",
        "Idea Agent – generates creative business ideas.\n",
        "\n",
        "Improver Agent – refines and enhances those ideas.\n",
        "\n",
        "A User Proxy Agent is used to automatically manage the conversation flow between them without human input. The process begins with the Idea Agent pitching a business idea, which is then passed to the Improver Agent for further improvement. This setup shows how multiple AI agents can collaborate in sequence to brainstorm and refine solutions, simulating real-world teamwork."
      ],
      "metadata": {
        "id": "AV2pI6SQsin4"
      }
    },
    {
      "cell_type": "code",
      "source": [
        "import os\n",
        "from typing import TypedDict\n",
        "from getpass import getpass # Import getpass\n",
        "from autogen import AssistantAgent, UserProxyAgent\n",
        "from openai import OpenAI # Import OpenAI class\n",
        "\n",
        "# Set up the OpenAI model\n",
        "# Retrieve the API key directly in this cell\n",
        "openai_api_key = getpass(\"Enter your OpenAI API Key: \")\n",
        "llm = OpenAI(api_key=openai_api_key)\n",
        "\n",
        "# Define config_list\n",
        "config_list = [{\"model\": \"gpt-3.5-turbo-instruct\", \"api_key\": openai_api_key}]\n",
        "\n",
        "# Create agents\n",
        "idea_agent = AssistantAgent(\n",
        "    name=\"IdeaAgent\",\n",
        "    system_message=\"I’m here to pitch creative business ideas!\",\n",
        "    llm_config={\"config_list\": config_list}\n",
        ")\n",
        "improver_agent = AssistantAgent(\n",
        "    name=\"ImproverAgent\",\n",
        "    system_message=\"I take ideas and make them even better!\",\n",
        "    llm_config={\"config_list\": config_list}\n",
        ")\n",
        "user_proxy = UserProxyAgent(\n",
        "    name=\"User\",\n",
        "    human_input_mode=\"NEVER\",\n",
        "    max_consecutive_auto_reply=1,\n",
        "    code_execution_config=False,\n",
        "    llm_config={\"config_list\": config_list}\n",
        ")\n",
        "\n",
        "# Start the conversation\n",
        "user_proxy.initiate_chat(idea_agent, message=\"Pitch me a business idea.\")\n",
        "print(\"Idea pitched. Now improving...\")\n",
        "\n",
        "user_proxy.initiate_chat(improver_agent, message=f\"Improve this: {idea_agent.last_message()['content']}\")"
      ],
      "metadata": {
        "id": "O5QFsBsArPp9"
      },
      "execution_count": null,
      "outputs": []
    }
  ]
}