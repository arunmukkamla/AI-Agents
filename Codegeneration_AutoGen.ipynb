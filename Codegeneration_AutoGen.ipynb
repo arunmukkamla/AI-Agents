{
  "nbformat": 4,
  "nbformat_minor": 0,
  "metadata": {
    "colab": {
      "provenance": [],
      "gpuType": "T4"
    },
    "kernelspec": {
      "name": "python3",
      "display_name": "Python 3"
    },
    "language_info": {
      "name": "python"
    },
    "accelerator": "GPU"
  },
  "cells": [
    {
      "cell_type": "markdown",
      "source": [
        "# Agents for Code Generation\n",
        "Autonomous Code Generation with Multi-Agent System\n",
        "\n",
        "Developed a multi-agent system using Autogen to autonomously generate, execute, and debug Python scripts.\n",
        "\n",
        "Implemented agents for code generation, execution, error analysis, and user simulation to iteratively improve code quality.\n",
        "\n",
        "Built a workflow to identify pure Nash equilibria in 2x2 games using best-response logic, leveraging LocalCommandLineCodeExecutor for safe code execution.\n",
        "\n",
        "Demonstrated the capability of collaborative AI agents to autonomously handle software development tasks with minimal human intervention."
      ],
      "metadata": {
        "id": "AV2pI6SQsin4"
      }
    },
    {
      "cell_type": "markdown",
      "source": [
        "# Setting Up the Development Environment"
      ],
      "metadata": {
        "id": "d0L16NJe6Zca"
      }
    },
    {
      "cell_type": "code",
      "source": [
        "import tempfile\n",
        "import autogen\n",
        "from autogen import ConversableAgent\n",
        "from autogen.coding import LocalCommandLineCodeExecutor\n",
        "import openai\n",
        "from openai import OpenAI"
      ],
      "metadata": {
        "id": "O5QFsBsArPp9"
      },
      "execution_count": 8,
      "outputs": []
    },
    {
      "cell_type": "markdown",
      "source": [
        "# LLM set up"
      ],
      "metadata": {
        "id": "7ZNG2rSj6bNX"
      }
    },
    {
      "cell_type": "code",
      "source": [
        "config_list = [\n",
        "    {\n",
        "        \"model\": \"gpt-3.5-turbo\",\n",
        "        \"api_key\": OPENAI_API_KEY,\n",
        "    }\n",
        "]"
      ],
      "metadata": {
        "id": "yB5FIHmxu5n6"
      },
      "execution_count": 1,
      "outputs": []
    },
    {
      "cell_type": "markdown",
      "source": [
        "# Python Environment"
      ],
      "metadata": {
        "id": "PAs9loWr6d5B"
      }
    },
    {
      "cell_type": "code",
      "source": [
        "# Temporary Directory\n",
        "temp_dir = tempfile.TemporaryDirectory()\n",
        "\n",
        "# Code Executor\n",
        "executor = LocalCommandLineCodeExecutor(timeout=10, work_dir=temp_dir.name)"
      ],
      "metadata": {
        "id": "kvQ5z695vZW-"
      },
      "execution_count": 10,
      "outputs": []
    },
    {
      "cell_type": "markdown",
      "source": [
        "# Agents are all we need"
      ],
      "metadata": {
        "id": "Kfw5ObCL6goo"
      }
    },
    {
      "cell_type": "code",
      "source": [
        "code_executor_agent = ConversableAgent(\n",
        "    name=\"CodeExecutorAgent\",\n",
        "    llm_config=False,\n",
        "    code_execution_config={\"executor\": executor},\n",
        "    human_input_mode=\"ALWAYS\"\n",
        ")\n",
        "error_analyzer_agent = ConversableAgent(\n",
        "    name=\"ErrorAnalyzerAgent\",\n",
        "    llm_config={\"config_list\": config_list},\n",
        "    system_message=\"You analyze errors in Python code and suggest fixes. Provide clear explanations and code improvements. Ensure the code handles edge cases and common errors such as invalid inputs and arithmetic errors.\"\n",
        ")\n",
        "user_proxy = ConversableAgent(\n",
        "    name=\"User\",\n",
        "    code_execution_config=False,\n",
        "    human_input_mode=\"ALWAYS\"\n",
        ")"
      ],
      "metadata": {
        "id": "u6lZfQXSyIml"
      },
      "execution_count": 11,
      "outputs": []
    },
    {
      "cell_type": "markdown",
      "source": [
        "# code generator agent"
      ],
      "metadata": {
        "id": "sdi-VNNN6myj"
      }
    },
    {
      "cell_type": "code",
      "source": [
        "code_generator_agent = ConversableAgent(\n",
        "    name=\"CodeGeneratorAgent\",\n",
        "    llm_config={\"config_list\": config_list},\n",
        "    system_message=\"\"\"You are an expert Python programmer with knowledge of game theory. Your task is to develop a Python script that finds pure Nash equilibria in 2x2 games using the best response approach. The program should have a text-based interface and include the following features:\n",
        "\n",
        "    1. A function to represent a 2x2 game using nested lists.\n",
        "    2. A function to calculate best responses for each player.\n",
        "    3. A function to find pure Nash equilibria based on best responses.\n",
        "    4. A text-based interface for users to input game payoffs and view results.\n",
        "    5. Clear display of the game, best responses, and Nash equilibria.\n",
        "    6. Proper error handling and input validation.\n",
        "\n",
        "    Important Notes:\n",
        "    - Use nested lists to represent the game: [[[a,b],[c,d]], [[e,f],[g,h]]] where the first sublist is Player 1's payoffs and the second is Player 2's.\n",
        "    - Implement the best response calculation for each player's strategies, considering cases where strategies might be equally good.\n",
        "    - Add detailed comments to explain key steps, especially the best response and Nash equilibrium logic.\n",
        "    - Ensure the text interface is user-friendly and provides clear instructions.\n",
        "    - Include an option for users to analyze multiple games without restarting the program.\n",
        "\n",
        "    Best Response Calculation:\n",
        "    - For each player and each strategy of the other player, determine which strategy yields the highest payoff.\n",
        "    - If both strategies yield equal payoffs, both should be considered as best responses.\n",
        "    - Return best responses as a list of lists: [[p1_br1, p1_br2], [p2_br1, p2_br2]], where each br can be 1, 2, or 'Both'.\n",
        "\n",
        "    Nash Equilibrium Finding Algorithm:\n",
        "    - A strategy profile is a Nash equilibrium if no player can unilaterally deviate and improve their payoff.\n",
        "    - Implement the following steps:\n",
        "      1. Iterate through all four possible strategy combinations: (1,1), (1,2), (2,1), (2,2).\n",
        "      2. For each combination (i,j):\n",
        "         - Check if strategy i is a best response for Player 1 to Player 2's strategy j\n",
        "         - AND if strategy j is a best response for Player 2 to Player 1's strategy i\n",
        "      3. If both conditions are true, add (i,j) to the nash_equilibria list.\n",
        "    - Handle cases where multiple strategies might be equally good (i.e., when best_responses contains 'Both').\n",
        "    - Ensure the function works correctly for games with 0, 1, or 2 Nash equilibria.\n",
        "\n",
        "    Text Interface:\n",
        "    - Prompt the user to enter payoffs for both players.\n",
        "    - Display the game in a readable format.\n",
        "    - Show the best responses for each player.\n",
        "    - Clearly indicate the pure Nash equilibria found.\n",
        "    - Allow the user to input multiple games or quit the program.\n",
        "\n",
        "    Example Output Format (using Prisoner's Dilemma):\n",
        "    ```\n",
        "    Enter payoffs for Player 1:\n",
        "    Strategy 1,1: -1\n",
        "    Strategy 1,2: -3\n",
        "    Strategy 2,1: 0\n",
        "    Strategy 2,2: -2\n",
        "\n",
        "    Enter payoffs for Player 2:\n",
        "    Strategy 1,1: -1\n",
        "    Strategy 1,2: 0\n",
        "    Strategy 2,1: -3\n",
        "    Strategy 2,2: -2\n",
        "\n",
        "    Game:\n",
        "    Player 1's payoffs:    Player 2's payoffs:\n",
        "    [-1, -3]               [-1, 0]\n",
        "    [0, -2]                [-3, -2]\n",
        "\n",
        "    Best Responses:\n",
        "    Player 1: [2, 2]\n",
        "    Player 2: [2, 2]\n",
        "\n",
        "    Pure Nash Equilibria: [(2,2)]\n",
        "    ```\n",
        "\n",
        "    Ensure your implementation is correct, user-friendly, and provides clear output for analysis of 2x2 games using the best response approach. Pay special attention to the correct implementation of the Nash equilibrium finding algorithm and best response calculation.\n",
        "    \"\"\"\n",
        ")"
      ],
      "metadata": {
        "id": "KJhtrsJWyRAp"
      },
      "execution_count": 12,
      "outputs": []
    },
    {
      "cell_type": "markdown",
      "source": [
        "# Group Chat Initialization"
      ],
      "metadata": {
        "id": "PLOWpYbx6r-A"
      }
    },
    {
      "cell_type": "code",
      "source": [
        "# Group Chat Initialization\n",
        "group_chat = GroupChat(agents=[code_generator_agent, code_executor_agent, error_analyzer_agent, user_proxy], messages=[])\n",
        "manager = GroupChatManager(groupchat=group_chat, llm_config={\"config_list\": config_list})"
      ],
      "metadata": {
        "id": "OjSLUNsYyTS2"
      },
      "execution_count": 15,
      "outputs": []
    },
    {
      "cell_type": "markdown",
      "source": [
        "# Error Handling"
      ],
      "metadata": {
        "id": "nhYbw3On6uBn"
      }
    },
    {
      "cell_type": "code",
      "source": [
        "# Error Handling\n",
        "def handle_execution_error(message, e):\n",
        "    error_message = f\"Code execution failed:\\n```\\n{message.content}\\n```\\nError:\\n```\\n{e}\\n```\"\n",
        "    error_analyzer_agent.send(error_message, group_chat)\n",
        "\n",
        "# Clear existing replies and register error handler\n",
        "code_executor_agent._reply_func_list.clear()\n",
        "code_executor_agent.register_reply([autogen.AssistantAgent, LocalCommandLineCodeExecutor], handle_execution_error)\n",
        "\n",
        "# Enhanced General Error Analysis\n",
        "def enhanced_error_analysis(message, error):\n",
        "    error_type = type(error).__name__\n",
        "    suggestions = {\n",
        "        'ValueError': \"Check for invalid inputs and ensure all values are within expected ranges.\",\n",
        "        'ZeroDivisionError': \"Ensure there are no divisions by zero. Add checks to prevent zero as a denominator.\",\n",
        "        'TypeError': \"Verify that all operations are being performed on compatible data types.\",\n",
        "        'IndexError': \"Ensure that list or array indices are within the valid range.\",\n",
        "        'KeyError': \"Check that dictionary keys exist before accessing them.\",\n",
        "        'AttributeError': \"Verify that the objects have the attributes or methods being accessed.\",\n",
        "        'ImportError': \"Ensure all required modules are installed and correctly imported.\"\n",
        "    }\n",
        "    suggestion = suggestions.get(error_type, \"Review the code for potential issues.\")\n",
        "\n",
        "    error_message = f\"Code execution failed:\\n```\\n{message.content}\\n```\\nError:\\n```\\n{error}\\n```\\nSuggested fix:\\n```\\n{suggestion}\\n```\"\n",
        "    error_analyzer_agent.send(error_message, group_chat)\n",
        "\n",
        "# Error analysis registering\n",
        "code_executor_agent.register_reply([autogen.AssistantAgent, LocalCommandLineCodeExecutor], enhanced_error_analysis)"
      ],
      "metadata": {
        "id": "K7a86nLr5dtm"
      },
      "execution_count": null,
      "outputs": []
    },
    {
      "cell_type": "markdown",
      "source": [
        "# Finally user proxy agent is responsible for starting conversation."
      ],
      "metadata": {
        "id": "P9iX10_z6z1A"
      }
    },
    {
      "cell_type": "code",
      "source": [
        "# Start Conversation\n",
        "user_proxy.initiate_chat(\n",
        "    manager, message=\"Generate Python code to find pure Nash equilibria in 2x2 games using the best response approach. Implement a text-based interface for user input and result display. Include functions for game representation, best response calculation, and equilibrium finding based on best responses.\"\n",
        ")"
      ],
      "metadata": {
        "id": "Nr8yd3o95iGf"
      },
      "execution_count": null,
      "outputs": []
    }
  ]
}